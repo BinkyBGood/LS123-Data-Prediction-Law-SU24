{
 "cells": [
  {
   "cell_type": "code",
   "execution_count": 2,
   "id": "0a3fb3f1-7124-459d-a1ad-449fa75d4708",
   "metadata": {},
   "outputs": [],
   "source": [
    "#from datascience import *\n",
    "from collections import Counter\n",
    "import numpy as np\n",
    "import pandas as pd\n",
    "from scipy import stats\n",
    "import statsmodels.api as sm\n",
    "from sklearn import datasets, linear_model\n",
    "from sklearn.linear_model import LinearRegression\n",
    "%matplotlib inline\n",
    "import matplotlib.pyplot as plt\n",
    "plt.style.use('fivethirtyeight')\n",
    "import plotly.express as px\n",
    "import seaborn as sns\n"
   ]
  },
  {
   "cell_type": "code",
   "execution_count": 3,
   "id": "84884377-d613-458d-a395-06c438606b25",
   "metadata": {},
   "outputs": [],
   "source": [
    "#list of oakland police officers and dispatchers in 2019\n",
    "#filter by 'police'\n",
    "oak_emp = pd.read_csv(\"oakland-2019.csv\")\n",
    "oak_emp.columns = oak_emp.columns.str.replace(\" \", \"\")"
   ]
  },
  {
   "cell_type": "code",
   "execution_count": 4,
   "id": "e628c30e-f48f-4546-94a3-6846d89bfe79",
   "metadata": {},
   "outputs": [],
   "source": [
    "\n",
    "opd19 = pd.read_csv(\"OPD_PublicCallData_2019.csv\")"
   ]
  },
  {
   "cell_type": "code",
   "execution_count": 5,
   "id": "ab8c787e",
   "metadata": {},
   "outputs": [],
   "source": [
    "#opd19.info()"
   ]
  },
  {
   "cell_type": "code",
   "execution_count": 6,
   "id": "03ef2c74",
   "metadata": {},
   "outputs": [],
   "source": [
    "#opd19.Source.unique()"
   ]
  },
  {
   "cell_type": "code",
   "execution_count": 7,
   "id": "36af948f",
   "metadata": {},
   "outputs": [
    {
     "data": {
      "text/plain": [
       "(442841, 16)"
      ]
     },
     "execution_count": 7,
     "metadata": {},
     "output_type": "execute_result"
    }
   ],
   "source": [
    "\n",
    "opd19.shape"
   ]
  },
  {
   "cell_type": "code",
   "execution_count": 8,
   "id": "560a9db5-bccc-4898-babb-726930931dda",
   "metadata": {},
   "outputs": [],
   "source": [
    "opd19.columns = opd19.columns.str.replace(\" \", \"\")"
   ]
  },
  {
   "cell_type": "code",
   "execution_count": 11,
   "id": "bdedaaa0-61cf-4b41-9dad-a2ce16d1489b",
   "metadata": {},
   "outputs": [],
   "source": [
    "#Descriptions cleaned organized and listed by type in Macro with 3 additional call types\n",
    "calltype = pd.read_csv(\"call_type_sf.csv\")"
   ]
  },
  {
   "cell_type": "code",
   "execution_count": 12,
   "id": "55a008a6",
   "metadata": {},
   "outputs": [],
   "source": [
    "com_opd = opd19.merge(calltype, on='Description')"
   ]
  },
  {
   "cell_type": "code",
   "execution_count": 13,
   "id": "499dac8c",
   "metadata": {},
   "outputs": [],
   "source": [
    "source_911 = com_opd[ com_opd[ 'Source'] == '911 CALL']"
   ]
  },
  {
   "cell_type": "code",
   "execution_count": 14,
   "id": "172489a7",
   "metadata": {},
   "outputs": [
    {
     "data": {
      "text/plain": [
       "(151363, 17)"
      ]
     },
     "execution_count": 14,
     "metadata": {},
     "output_type": "execute_result"
    }
   ],
   "source": [
    "source_911.shape"
   ]
  },
  {
   "cell_type": "code",
   "execution_count": 15,
   "id": "85080b08",
   "metadata": {},
   "outputs": [
    {
     "data": {
      "text/plain": [
       "array(['NON EMERGENCY OFFICER REQUIRED', 'SOCIETY', 'MISC POLICING',\n",
       "       'SERVICE', 'HANG UP / UNFOUNDED', '311 FILE ONLINE', 'OTHER',\n",
       "       'VIOLENT CRIME', 'MEDICAL', 'REPORT ONLINE OPD', 'PROPERTY',\n",
       "       'FIRE', '311 URGENT', 'TRAFFIC'], dtype=object)"
      ]
     },
     "execution_count": 15,
     "metadata": {},
     "output_type": "execute_result"
    }
   ],
   "source": [
    "calltype.CallType.unique()"
   ]
  },
  {
   "cell_type": "code",
   "execution_count": 16,
   "id": "5fe2bc14",
   "metadata": {},
   "outputs": [],
   "source": [
    "com_opd = opd19.merge(calltype, on='Description')"
   ]
  },
  {
   "cell_type": "code",
   "execution_count": 17,
   "id": "bbbbcf4b",
   "metadata": {},
   "outputs": [],
   "source": [
    "source_911 = com_opd[ com_opd[ 'Source'] == '911 CALL']"
   ]
  },
  {
   "cell_type": "code",
   "execution_count": 18,
   "id": "88b25f57",
   "metadata": {},
   "outputs": [
    {
     "data": {
      "text/html": [
       "<div>\n",
       "<style scoped>\n",
       "    .dataframe tbody tr th:only-of-type {\n",
       "        vertical-align: middle;\n",
       "    }\n",
       "\n",
       "    .dataframe tbody tr th {\n",
       "        vertical-align: top;\n",
       "    }\n",
       "\n",
       "    .dataframe thead th {\n",
       "        text-align: right;\n",
       "    }\n",
       "</style>\n",
       "<table border=\"1\" class=\"dataframe\">\n",
       "  <thead>\n",
       "    <tr style=\"text-align: right;\">\n",
       "      <th></th>\n",
       "      <th>CallType</th>\n",
       "      <th>Description</th>\n",
       "    </tr>\n",
       "  </thead>\n",
       "  <tbody>\n",
       "    <tr>\n",
       "      <th>0</th>\n",
       "      <td>HANG UP / UNFOUNDED</td>\n",
       "      <td>44637</td>\n",
       "    </tr>\n",
       "    <tr>\n",
       "      <th>1</th>\n",
       "      <td>SOCIETY</td>\n",
       "      <td>30228</td>\n",
       "    </tr>\n",
       "    <tr>\n",
       "      <th>2</th>\n",
       "      <td>MEDICAL</td>\n",
       "      <td>25945</td>\n",
       "    </tr>\n",
       "    <tr>\n",
       "      <th>3</th>\n",
       "      <td>SERVICE</td>\n",
       "      <td>10595</td>\n",
       "    </tr>\n",
       "    <tr>\n",
       "      <th>4</th>\n",
       "      <td>MISC POLICING</td>\n",
       "      <td>10528</td>\n",
       "    </tr>\n",
       "    <tr>\n",
       "      <th>5</th>\n",
       "      <td>REPORT ONLINE OPD</td>\n",
       "      <td>8822</td>\n",
       "    </tr>\n",
       "    <tr>\n",
       "      <th>6</th>\n",
       "      <td>VIOLENT CRIME</td>\n",
       "      <td>8564</td>\n",
       "    </tr>\n",
       "    <tr>\n",
       "      <th>7</th>\n",
       "      <td>FIRE</td>\n",
       "      <td>3228</td>\n",
       "    </tr>\n",
       "    <tr>\n",
       "      <th>8</th>\n",
       "      <td>NON EMERGENCY OFFICER REQUIRED</td>\n",
       "      <td>2815</td>\n",
       "    </tr>\n",
       "    <tr>\n",
       "      <th>9</th>\n",
       "      <td>TRAFFIC</td>\n",
       "      <td>2276</td>\n",
       "    </tr>\n",
       "  </tbody>\n",
       "</table>\n",
       "</div>"
      ],
      "text/plain": [
       "                         CallType  Description\n",
       "0             HANG UP / UNFOUNDED        44637\n",
       "1                         SOCIETY        30228\n",
       "2                         MEDICAL        25945\n",
       "3                         SERVICE        10595\n",
       "4                   MISC POLICING        10528\n",
       "5               REPORT ONLINE OPD         8822\n",
       "6                   VIOLENT CRIME         8564\n",
       "7                            FIRE         3228\n",
       "8  NON EMERGENCY OFFICER REQUIRED         2815\n",
       "9                         TRAFFIC         2276"
      ]
     },
     "execution_count": 18,
     "metadata": {},
     "output_type": "execute_result"
    }
   ],
   "source": [
    "#can you make this a graphic?\n",
    "\n",
    "call_desc = source_911.groupby('CallType')['Description'].count().sort_values(ascending=False).reset_index()\n",
    "call_desc.head(10)"
   ]
  },
  {
   "cell_type": "code",
   "execution_count": 19,
   "id": "9b888bfd",
   "metadata": {},
   "outputs": [
    {
     "data": {
      "text/html": [
       "<div>\n",
       "<style scoped>\n",
       "    .dataframe tbody tr th:only-of-type {\n",
       "        vertical-align: middle;\n",
       "    }\n",
       "\n",
       "    .dataframe tbody tr th {\n",
       "        vertical-align: top;\n",
       "    }\n",
       "\n",
       "    .dataframe thead th {\n",
       "        text-align: right;\n",
       "    }\n",
       "</style>\n",
       "<table border=\"1\" class=\"dataframe\">\n",
       "  <thead>\n",
       "    <tr style=\"text-align: right;\">\n",
       "      <th></th>\n",
       "      <th>Description</th>\n",
       "      <th>CallType</th>\n",
       "    </tr>\n",
       "  </thead>\n",
       "  <tbody>\n",
       "    <tr>\n",
       "      <th>0</th>\n",
       "      <td>911 HANG UP FROM ACC</td>\n",
       "      <td>28968</td>\n",
       "    </tr>\n",
       "    <tr>\n",
       "      <th>1</th>\n",
       "      <td>AMBULANCE REQUESTED</td>\n",
       "      <td>18683</td>\n",
       "    </tr>\n",
       "    <tr>\n",
       "      <th>2</th>\n",
       "      <td>911 HANG-UP</td>\n",
       "      <td>9621</td>\n",
       "    </tr>\n",
       "    <tr>\n",
       "      <th>3</th>\n",
       "      <td>415 UNKNOWN</td>\n",
       "      <td>9263</td>\n",
       "    </tr>\n",
       "    <tr>\n",
       "      <th>4</th>\n",
       "      <td>MISDIAL</td>\n",
       "      <td>6047</td>\n",
       "    </tr>\n",
       "    <tr>\n",
       "      <th>5</th>\n",
       "      <td>POLICE RELATED MATTE</td>\n",
       "      <td>5453</td>\n",
       "    </tr>\n",
       "    <tr>\n",
       "      <th>6</th>\n",
       "      <td>MENTALLY ILL</td>\n",
       "      <td>4157</td>\n",
       "    </tr>\n",
       "    <tr>\n",
       "      <th>7</th>\n",
       "      <td>AUTO BURGLARY</td>\n",
       "      <td>4154</td>\n",
       "    </tr>\n",
       "    <tr>\n",
       "      <th>8</th>\n",
       "      <td>DISTURBING THE PEACE</td>\n",
       "      <td>3686</td>\n",
       "    </tr>\n",
       "    <tr>\n",
       "      <th>9</th>\n",
       "      <td>BATTERY</td>\n",
       "      <td>3325</td>\n",
       "    </tr>\n",
       "  </tbody>\n",
       "</table>\n",
       "</div>"
      ],
      "text/plain": [
       "            Description  CallType\n",
       "0  911 HANG UP FROM ACC     28968\n",
       "1   AMBULANCE REQUESTED     18683\n",
       "2           911 HANG-UP      9621\n",
       "3           415 UNKNOWN      9263\n",
       "4               MISDIAL      6047\n",
       "5  POLICE RELATED MATTE      5453\n",
       "6          MENTALLY ILL      4157\n",
       "7         AUTO BURGLARY      4154\n",
       "8  DISTURBING THE PEACE      3686\n",
       "9               BATTERY      3325"
      ]
     },
     "execution_count": 19,
     "metadata": {},
     "output_type": "execute_result"
    }
   ],
   "source": [
    "#can you make this a graphic?\n",
    "\n",
    "desc_call = source_911.groupby('Description')['CallType'].count().sort_values(ascending=False).reset_index()\n",
    "desc_call.head(10)"
   ]
  },
  {
   "cell_type": "code",
   "execution_count": 20,
   "id": "20250d64",
   "metadata": {},
   "outputs": [
    {
     "ename": "TypeError",
     "evalue": "Series.sort_values() got an unexpected keyword argument 'c'",
     "output_type": "error",
     "traceback": [
      "\u001b[0;31m---------------------------------------------------------------------------\u001b[0m",
      "\u001b[0;31mTypeError\u001b[0m                                 Traceback (most recent call last)",
      "Cell \u001b[0;32mIn[20], line 3\u001b[0m\n\u001b[1;32m      1\u001b[0m \u001b[38;5;66;03m#can you make this a graphic?\u001b[39;00m\n\u001b[0;32m----> 3\u001b[0m source_911\u001b[38;5;241m.\u001b[39mgroupby(\u001b[38;5;124m'\u001b[39m\u001b[38;5;124mPriority\u001b[39m\u001b[38;5;124m'\u001b[39m)[\u001b[38;5;124m'\u001b[39m\u001b[38;5;124mDescription\u001b[39m\u001b[38;5;124m'\u001b[39m]\u001b[38;5;241m.\u001b[39mcount()\u001b[38;5;241m.\u001b[39msort_values(c\u001b[38;5;241m=\u001b[39m\u001b[38;5;28;01mFalse\u001b[39;00m)\n",
      "\u001b[0;31mTypeError\u001b[0m: Series.sort_values() got an unexpected keyword argument 'c'"
     ]
    }
   ],
   "source": [
    "#can you make this a graphic?\n",
    "\n",
    "source_911.groupby('Priority')['Description'].count().sort_values(c=False)"
   ]
  },
  {
   "cell_type": "markdown",
   "id": "d357f917",
   "metadata": {},
   "source": []
  },
  {
   "cell_type": "code",
   "execution_count": 21,
   "id": "8001d250",
   "metadata": {},
   "outputs": [],
   "source": [
    "p2 = source_911[ source_911[ 'Priority'] == 2]"
   ]
  },
  {
   "cell_type": "code",
   "execution_count": 22,
   "id": "37978da6",
   "metadata": {},
   "outputs": [
    {
     "data": {
      "text/html": [
       "<div>\n",
       "<style scoped>\n",
       "    .dataframe tbody tr th:only-of-type {\n",
       "        vertical-align: middle;\n",
       "    }\n",
       "\n",
       "    .dataframe tbody tr th {\n",
       "        vertical-align: top;\n",
       "    }\n",
       "\n",
       "    .dataframe thead th {\n",
       "        text-align: right;\n",
       "    }\n",
       "</style>\n",
       "<table border=\"1\" class=\"dataframe\">\n",
       "  <thead>\n",
       "    <tr style=\"text-align: right;\">\n",
       "      <th></th>\n",
       "      <th>CallType</th>\n",
       "      <th>Description</th>\n",
       "    </tr>\n",
       "  </thead>\n",
       "  <tbody>\n",
       "    <tr>\n",
       "      <th>0</th>\n",
       "      <td>HANG UP / UNFOUNDED</td>\n",
       "      <td>38585</td>\n",
       "    </tr>\n",
       "    <tr>\n",
       "      <th>1</th>\n",
       "      <td>SOCIETY</td>\n",
       "      <td>22777</td>\n",
       "    </tr>\n",
       "    <tr>\n",
       "      <th>2</th>\n",
       "      <td>SERVICE</td>\n",
       "      <td>8209</td>\n",
       "    </tr>\n",
       "    <tr>\n",
       "      <th>3</th>\n",
       "      <td>MEDICAL</td>\n",
       "      <td>4379</td>\n",
       "    </tr>\n",
       "    <tr>\n",
       "      <th>4</th>\n",
       "      <td>NON EMERGENCY OFFICER REQUIRED</td>\n",
       "      <td>2222</td>\n",
       "    </tr>\n",
       "    <tr>\n",
       "      <th>5</th>\n",
       "      <td>REPORT ONLINE OPD</td>\n",
       "      <td>1670</td>\n",
       "    </tr>\n",
       "    <tr>\n",
       "      <th>6</th>\n",
       "      <td>MISC POLICING</td>\n",
       "      <td>1629</td>\n",
       "    </tr>\n",
       "    <tr>\n",
       "      <th>7</th>\n",
       "      <td>TRAFFIC</td>\n",
       "      <td>1015</td>\n",
       "    </tr>\n",
       "    <tr>\n",
       "      <th>8</th>\n",
       "      <td>VIOLENT CRIME</td>\n",
       "      <td>923</td>\n",
       "    </tr>\n",
       "    <tr>\n",
       "      <th>9</th>\n",
       "      <td>FIRE</td>\n",
       "      <td>809</td>\n",
       "    </tr>\n",
       "    <tr>\n",
       "      <th>10</th>\n",
       "      <td>OTHER</td>\n",
       "      <td>491</td>\n",
       "    </tr>\n",
       "    <tr>\n",
       "      <th>11</th>\n",
       "      <td>311 URGENT</td>\n",
       "      <td>214</td>\n",
       "    </tr>\n",
       "    <tr>\n",
       "      <th>12</th>\n",
       "      <td>311 FILE ONLINE</td>\n",
       "      <td>186</td>\n",
       "    </tr>\n",
       "    <tr>\n",
       "      <th>13</th>\n",
       "      <td>PROPERTY</td>\n",
       "      <td>157</td>\n",
       "    </tr>\n",
       "  </tbody>\n",
       "</table>\n",
       "</div>"
      ],
      "text/plain": [
       "                          CallType  Description\n",
       "0              HANG UP / UNFOUNDED        38585\n",
       "1                          SOCIETY        22777\n",
       "2                          SERVICE         8209\n",
       "3                          MEDICAL         4379\n",
       "4   NON EMERGENCY OFFICER REQUIRED         2222\n",
       "5                REPORT ONLINE OPD         1670\n",
       "6                    MISC POLICING         1629\n",
       "7                          TRAFFIC         1015\n",
       "8                    VIOLENT CRIME          923\n",
       "9                             FIRE          809\n",
       "10                           OTHER          491\n",
       "11                      311 URGENT          214\n",
       "12                 311 FILE ONLINE          186\n",
       "13                        PROPERTY          157"
      ]
     },
     "execution_count": 22,
     "metadata": {},
     "output_type": "execute_result"
    }
   ],
   "source": [
    "#can you make this a graphic?\n",
    "\n",
    "p2.groupby('CallType')['Description'].count().sort_values(ascending=False).reset_index()"
   ]
  },
  {
   "cell_type": "code",
   "execution_count": 23,
   "id": "5f27c1a2",
   "metadata": {},
   "outputs": [
    {
     "data": {
      "text/html": [
       "<div>\n",
       "<style scoped>\n",
       "    .dataframe tbody tr th:only-of-type {\n",
       "        vertical-align: middle;\n",
       "    }\n",
       "\n",
       "    .dataframe tbody tr th {\n",
       "        vertical-align: top;\n",
       "    }\n",
       "\n",
       "    .dataframe thead th {\n",
       "        text-align: right;\n",
       "    }\n",
       "</style>\n",
       "<table border=\"1\" class=\"dataframe\">\n",
       "  <thead>\n",
       "    <tr style=\"text-align: right;\">\n",
       "      <th></th>\n",
       "      <th>Description</th>\n",
       "      <th>CallType</th>\n",
       "    </tr>\n",
       "  </thead>\n",
       "  <tbody>\n",
       "    <tr>\n",
       "      <th>0</th>\n",
       "      <td>911 HANG UP FROM ACC</td>\n",
       "      <td>28965</td>\n",
       "    </tr>\n",
       "    <tr>\n",
       "      <th>1</th>\n",
       "      <td>911 HANG-UP</td>\n",
       "      <td>9619</td>\n",
       "    </tr>\n",
       "    <tr>\n",
       "      <th>2</th>\n",
       "      <td>415 UNKNOWN</td>\n",
       "      <td>8555</td>\n",
       "    </tr>\n",
       "    <tr>\n",
       "      <th>3</th>\n",
       "      <td>DISTURBING THE PEACE</td>\n",
       "      <td>3319</td>\n",
       "    </tr>\n",
       "    <tr>\n",
       "      <th>4</th>\n",
       "      <td>MENTALLY ILL</td>\n",
       "      <td>2714</td>\n",
       "    </tr>\n",
       "    <tr>\n",
       "      <th>...</th>\n",
       "      <td>...</td>\n",
       "      <td>...</td>\n",
       "    </tr>\n",
       "    <tr>\n",
       "      <th>203</th>\n",
       "      <td>POSSESSION OR PURCHA</td>\n",
       "      <td>1</td>\n",
       "    </tr>\n",
       "    <tr>\n",
       "      <th>204</th>\n",
       "      <td>THREATEN WITNESS/VIC</td>\n",
       "      <td>1</td>\n",
       "    </tr>\n",
       "    <tr>\n",
       "      <th>205</th>\n",
       "      <td>POSSESSION OF CONCEN</td>\n",
       "      <td>1</td>\n",
       "    </tr>\n",
       "    <tr>\n",
       "      <th>206</th>\n",
       "      <td>POLICE RELATED MATTE</td>\n",
       "      <td>1</td>\n",
       "    </tr>\n",
       "    <tr>\n",
       "      <th>207</th>\n",
       "      <td>WITNESS</td>\n",
       "      <td>1</td>\n",
       "    </tr>\n",
       "  </tbody>\n",
       "</table>\n",
       "<p>208 rows × 2 columns</p>\n",
       "</div>"
      ],
      "text/plain": [
       "              Description  CallType\n",
       "0    911 HANG UP FROM ACC     28965\n",
       "1             911 HANG-UP      9619\n",
       "2             415 UNKNOWN      8555\n",
       "3    DISTURBING THE PEACE      3319\n",
       "4            MENTALLY ILL      2714\n",
       "..                    ...       ...\n",
       "203  POSSESSION OR PURCHA         1\n",
       "204  THREATEN WITNESS/VIC         1\n",
       "205  POSSESSION OF CONCEN         1\n",
       "206  POLICE RELATED MATTE         1\n",
       "207               WITNESS         1\n",
       "\n",
       "[208 rows x 2 columns]"
      ]
     },
     "execution_count": 23,
     "metadata": {},
     "output_type": "execute_result"
    }
   ],
   "source": [
    "#can you make this a graphic?\n",
    "\n",
    "p2.groupby('Description')['CallType'].count().sort_values(ascending=False).reset_index()"
   ]
  },
  {
   "cell_type": "code",
   "execution_count": null,
   "id": "12281ccb",
   "metadata": {},
   "outputs": [],
   "source": []
  },
  {
   "cell_type": "code",
   "execution_count": null,
   "id": "af7daa5a",
   "metadata": {},
   "outputs": [],
   "source": []
  },
  {
   "cell_type": "code",
   "execution_count": null,
   "id": "38ff1711",
   "metadata": {},
   "outputs": [],
   "source": []
  },
  {
   "cell_type": "code",
   "execution_count": null,
   "id": "41a6cce3",
   "metadata": {},
   "outputs": [],
   "source": []
  },
  {
   "cell_type": "code",
   "execution_count": null,
   "id": "746c2382",
   "metadata": {},
   "outputs": [],
   "source": [
    "Old code below\n"
   ]
  },
  {
   "cell_type": "code",
   "execution_count": null,
   "id": "ea25ef34",
   "metadata": {},
   "outputs": [],
   "source": []
  },
  {
   "cell_type": "code",
   "execution_count": null,
   "id": "8eb33b78",
   "metadata": {},
   "outputs": [],
   "source": []
  },
  {
   "cell_type": "code",
   "execution_count": null,
   "id": "29e22353",
   "metadata": {},
   "outputs": [
    {
     "data": {
      "text/plain": [
       "array(['Police Communications Dispatcher',\n",
       "       'Fire Communications Dispatcher'], dtype=object)"
      ]
     },
     "execution_count": 14,
     "metadata": {},
     "output_type": "execute_result"
    }
   ],
   "source": [
    "disp = oak_emp.query('JobTitle.str.contains(\"Disp\")')\n",
    "disp.JobTitle.unique()"
   ]
  },
  {
   "cell_type": "code",
   "execution_count": null,
   "id": "64e69ce2",
   "metadata": {},
   "outputs": [],
   "source": []
  },
  {
   "cell_type": "code",
   "execution_count": null,
   "id": "d5e32413-a358-4ede-98f1-20f22952d648",
   "metadata": {},
   "outputs": [],
   "source": [
    "#find all columns\n",
    "#find all rows\n",
    "#find all variables for each column\n",
    "#check for missing values"
   ]
  },
  {
   "cell_type": "code",
   "execution_count": null,
   "id": "2cb48cb6-84d9-4d58-b06c-98cfb5d7ef73",
   "metadata": {},
   "outputs": [],
   "source": [
    "#acs19_1 = pd.read_csv(\"ACSDP1Y2019.DP05-Data.csv\")"
   ]
  },
  {
   "cell_type": "code",
   "execution_count": null,
   "id": "d8dcf70c-2455-4ec3-a498-3738d982db30",
   "metadata": {},
   "outputs": [],
   "source": [
    "#oak_fbi_arrest = pd.read_csv(\"All Arrest by Offense_07-19-2024.csv\")"
   ]
  },
  {
   "cell_type": "code",
   "execution_count": null,
   "id": "933d1e1f-4d86-4a64-952b-45361a0dcc6b",
   "metadata": {},
   "outputs": [],
   "source": [
    "#qcalldat = pd.read_csv(\"Call_Data_20240714.csv\")"
   ]
  },
  {
   "cell_type": "code",
   "execution_count": null,
   "id": "9c03a937-16c8-48ed-9ddf-f13975db9cf4",
   "metadata": {},
   "outputs": [],
   "source": [
    "#ca_arrest = pd.read_csv(\"State of California Department of Justice - OpenJustice.csv\")"
   ]
  },
  {
   "cell_type": "code",
   "execution_count": null,
   "id": "8cb188b6-72a0-48ac-b914-de2a39e7463a",
   "metadata": {},
   "outputs": [],
   "source": [
    "#oakland housing authority location data\n",
    "#clean to only Oakland\n",
    "#change address to block number by hundreds only 1234 lane --> 1200 lane\n",
    "#make column bool for if OHA address from call\n",
    "oha = pd.read_csv(\"public_housing_physical_inspection_scores_0620.csv\")"
   ]
  },
  {
   "cell_type": "code",
   "execution_count": null,
   "id": "76363249-0dba-4fd2-8ceb-457ad3e138bc",
   "metadata": {},
   "outputs": [],
   "source": [
    "#cleaning description items for spelling errors and similar types.\n",
    "opd19['Description'] = opd19['Description'].str.replace('ASSSAULT', 'ASSAULT',case=False)\n",
    "opd19['Description'] = opd19['Description'].str.replace('CONCERT|COLISEUM EVENT|COLISEUM OR ARENT EV', 'EVENT', regex=True)\n",
    "opd19['Description'] = opd19['Description'].str.replace('THROWING ITEMS AT A|THROWING SUBSTANCE A|THROWING SUBSTANCES', 'THROWING ITEM/SUBSTANCE', regex=True)\n",
    "opd19['Description'] = opd19['Description'].str.replace('WAGON REQUEST|WAGON REQUESTED|WAGON REQUESTED JUVE', 'WAGON', regex=True)\n",
    "opd19['Description'] = opd19['Description'].str.replace('VEHICLE COLLISION-CI|VEHICLE COLLISION-DR|VEHICLE COLLISION-HI|VEHICLE COLLISION-PE|VEHICLE COLLISION-UN|VEHICLE COLLISION/PR', 'COLLISION', regex=True)\n",
    "opd19['Description'] = opd19['Description'].str.replace('DISORDERLY CONDUCT:', 'DISORDERLY CONDUCT', case=False)\n",
    "opd19['Description'] = opd19['Description'].str.replace('DISTURBANCE-AUTO|DISTURBANCE-CUSTOMER|DISTURBANCE-DRINKERS|DISTURBANCE-JUVENILE|DISTURBANCE-LANDLORD|DISTURBANCE-NEIGHBOR|DISTURBANCE-UNWANTED', 'DISTURBANCE', regex=True)\n"
   ]
  },
  {
   "cell_type": "code",
   "execution_count": null,
   "id": "1599b31f-9336-4989-ac9e-d34a9d5e5fc3",
   "metadata": {},
   "outputs": [],
   "source": [
    "#merge calltype with opd19 by Description col\n",
    "# Merge two DataFrames on a common column\n",
    "opd_w_call = pd.merge(opd19, calltype, on='Description', how='inner')"
   ]
  },
  {
   "cell_type": "code",
   "execution_count": null,
   "id": "3e35c951-eec4-4be8-b0b1-717d6721e703",
   "metadata": {},
   "outputs": [],
   "source": [
    "#reorder columns\n",
    "opd_w_call = opd_w_call.iloc[:,[0,1,16,2,3,4,5,6,7,8,9,10,11,12,13,14,15]]"
   ]
  },
  {
   "cell_type": "code",
   "execution_count": null,
   "id": "b82cd9f9-5fba-4841-8e7d-dd1ce16e7076",
   "metadata": {},
   "outputs": [],
   "source": [
    "#select only useful columns address city and state\n",
    "oha_filtered = oha[['ADDRESS', 'CITY', 'STATE_NAME']]"
   ]
  },
  {
   "cell_type": "code",
   "execution_count": null,
   "id": "879b9ba7-a2ef-4e3f-860a-b742ee3485f8",
   "metadata": {},
   "outputs": [],
   "source": [
    "#filter only Oakland  CA locations\n",
    "oha_filtered = oha_filtered.loc[(oha['STATE_NAME'] == 'CA') & (oha['CITY'] == 'Oakland')]"
   ]
  },
  {
   "cell_type": "code",
   "execution_count": null,
   "id": "154a17fa-cbdc-46d5-af04-3e61e7ed8021",
   "metadata": {},
   "outputs": [],
   "source": [
    "oha_filtered['ADDRESS'] = oha_filtered['ADDRESS'].str.replace('1029 Kirkham St', '1000 KIRKHAM ST', case=False)\n",
    "oha_filtered['ADDRESS'] = oha_filtered['ADDRESS'].str.replace('1089 26th St', '1000 26TH ST', case=False)\n",
    "oha_filtered['ADDRESS'] = oha_filtered['ADDRESS'].str.replace('1269 66th Ave', '1200 66TH AVE', case=False)\n",
    "oha_filtered['ADDRESS'] = oha_filtered['ADDRESS'].str.replace('1350 7th St', '1300 7TH ST', case=False)\n",
    "oha_filtered['ADDRESS'] = oha_filtered['ADDRESS'].str.replace('1621 Harrison St', '1600 HARRISON ST', case=False)\n",
    "oha_filtered['ADDRESS'] = oha_filtered['ADDRESS'].str.replace('1667 10th St', '1600 10TH ST', case=False)\n",
    "oha_filtered['ADDRESS'] = oha_filtered['ADDRESS'].str.replace('2001 Macarthur Blvd', '2000 MACARTHUR BLVD', case=False)\n",
    "oha_filtered['ADDRESS'] = oha_filtered['ADDRESS'].str.replace('2300 Chestnut St', '2300 CHESTNUT ST', case=False)\n",
    "oha_filtered['ADDRESS'] = oha_filtered['ADDRESS'].str.replace('570 16th St', '500 16TH ST', case=False)\n",
    "oha_filtered['ADDRESS'] = oha_filtered['ADDRESS'].str.replace('620 17th St', '600 17TH ST', case=False)\n",
    "oha_filtered['ADDRESS'] = oha_filtered['ADDRESS'].str.replace('6403 Fenham St', '6400 FENHAM ST', case=False)\n",
    "oha_filtered['ADDRESS'] = oha_filtered['ADDRESS'].str.replace('6920 Foothill Blvd', '6900 FOOTHILL BLVD', case=False)\n",
    "oha_filtered['ADDRESS'] = oha_filtered['ADDRESS'].str.replace('6951 Lion Way Apt 411', '6900 LION WAY', case=False)\n",
    "oha_filtered['ADDRESS'] = oha_filtered['ADDRESS'].str.replace('885 69th Ave', '800 69TH AVE', case=False)\n",
    "oha_filtered['ADDRESS'] = oha_filtered['ADDRESS'].str.replace('930 66th Ave', '900 66TH AVE', case=False)\n",
    "#oha_filtered needs to be merged as a bool with opd_w_call"
   ]
  },
  {
   "cell_type": "code",
   "execution_count": null,
   "id": "a87ff928-af0a-49b4-bfbd-7e67f7e8a163",
   "metadata": {},
   "outputs": [],
   "source": []
  },
  {
   "cell_type": "code",
   "execution_count": null,
   "id": "fa277403-4ed9-4167-b042-cf30ed4164cc",
   "metadata": {},
   "outputs": [],
   "source": [
    "#only take Jobtitle column row where police or dispatch\n",
    "#oak_emp[oak_emp['JobTitle'] = 'Police']\n",
    "officers = oak_emp[oak_emp['JobTitle'].str.contains(\"Police\")]\n",
    "dispatch = oak_emp[oak_emp['JobTitle'].str.contains(\"Dispatch\")]"
   ]
  },
  {
   "cell_type": "code",
   "execution_count": null,
   "id": "b37a06e1-9fd0-4589-ab31-f4e1605af171",
   "metadata": {},
   "outputs": [
    {
     "name": "stdout",
     "output_type": "stream",
     "text": [
      "<class 'pandas.core.frame.DataFrame'>\n",
      "RangeIndex: 5476 entries, 0 to 5475\n",
      "Data columns (total 25 columns):\n",
      " #   Column               Non-Null Count  Dtype  \n",
      "---  ------               --------------  -----  \n",
      " 0   EmployeeName_x       5476 non-null   object \n",
      " 1   JobTitle             5476 non-null   object \n",
      " 2   BasePay_x            5476 non-null   float64\n",
      " 3   OvertimePay_x        5476 non-null   float64\n",
      " 4   OtherPay_x           5476 non-null   float64\n",
      " 5   Benefits_x           5476 non-null   float64\n",
      " 6   TotalPay_x           5476 non-null   float64\n",
      " 7   PensionDebt_x        0 non-null      float64\n",
      " 8   TotalPay&Benefits_x  5476 non-null   float64\n",
      " 9   Year_x               5476 non-null   int64  \n",
      " 10  Notes_x              0 non-null      float64\n",
      " 11  Agency_x             5476 non-null   object \n",
      " 12  Status_x             5476 non-null   object \n",
      " 13  EmployeeName_y       5476 non-null   object \n",
      " 14  BasePay_y            5476 non-null   float64\n",
      " 15  OvertimePay_y        5476 non-null   float64\n",
      " 16  OtherPay_y           5476 non-null   float64\n",
      " 17  Benefits_y           5476 non-null   float64\n",
      " 18  TotalPay_y           5476 non-null   float64\n",
      " 19  PensionDebt_y        0 non-null      float64\n",
      " 20  TotalPay&Benefits_y  5476 non-null   float64\n",
      " 21  Year_y               5476 non-null   int64  \n",
      " 22  Notes_y              0 non-null      float64\n",
      " 23  Agency_y             5476 non-null   object \n",
      " 24  Status_y             5476 non-null   object \n",
      "dtypes: float64(16), int64(2), object(7)\n",
      "memory usage: 1.0+ MB\n"
     ]
    }
   ],
   "source": [
    "officer_disp = dispatch.merge(officers, on='JobTitle')\n",
    "officer_disp.info()"
   ]
  },
  {
   "cell_type": "code",
   "execution_count": null,
   "id": "91953550-3559-4457-a770-a07379a7303b",
   "metadata": {},
   "outputs": [],
   "source": []
  },
  {
   "cell_type": "code",
   "execution_count": null,
   "id": "73295b88-0ea5-4abe-802d-89e99d5bb674",
   "metadata": {},
   "outputs": [],
   "source": [
    "#trying to isolate police and dispatch only and sum each and total all"
   ]
  },
  {
   "cell_type": "code",
   "execution_count": null,
   "id": "613a6a34-8802-40e5-bf52-09836778ed5d",
   "metadata": {},
   "outputs": [
    {
     "data": {
      "text/plain": [
       "array(['Police Communications Dispatcher'], dtype=object)"
      ]
     },
     "execution_count": 47,
     "metadata": {},
     "output_type": "execute_result"
    }
   ],
   "source": [
    "officer_disp.JobTitle.unique()"
   ]
  },
  {
   "cell_type": "code",
   "execution_count": null,
   "id": "9f709f7a-7208-40e5-951d-bae0308e0018",
   "metadata": {},
   "outputs": [
    {
     "name": "stdout",
     "output_type": "stream",
     "text": [
      "<class 'pandas.core.frame.DataFrame'>\n",
      "RangeIndex: 5476 entries, 0 to 5475\n",
      "Data columns (total 25 columns):\n",
      " #   Column               Non-Null Count  Dtype  \n",
      "---  ------               --------------  -----  \n",
      " 0   EmployeeName_x       5476 non-null   object \n",
      " 1   JobTitle             5476 non-null   object \n",
      " 2   BasePay_x            5476 non-null   float64\n",
      " 3   OvertimePay_x        5476 non-null   float64\n",
      " 4   OtherPay_x           5476 non-null   float64\n",
      " 5   Benefits_x           5476 non-null   float64\n",
      " 6   TotalPay_x           5476 non-null   float64\n",
      " 7   PensionDebt_x        0 non-null      float64\n",
      " 8   TotalPay&Benefits_x  5476 non-null   float64\n",
      " 9   Year_x               5476 non-null   int64  \n",
      " 10  Notes_x              0 non-null      float64\n",
      " 11  Agency_x             5476 non-null   object \n",
      " 12  Status_x             5476 non-null   object \n",
      " 13  EmployeeName_y       5476 non-null   object \n",
      " 14  BasePay_y            5476 non-null   float64\n",
      " 15  OvertimePay_y        5476 non-null   float64\n",
      " 16  OtherPay_y           5476 non-null   float64\n",
      " 17  Benefits_y           5476 non-null   float64\n",
      " 18  TotalPay_y           5476 non-null   float64\n",
      " 19  PensionDebt_y        0 non-null      float64\n",
      " 20  TotalPay&Benefits_y  5476 non-null   float64\n",
      " 21  Year_y               5476 non-null   int64  \n",
      " 22  Notes_y              0 non-null      float64\n",
      " 23  Agency_y             5476 non-null   object \n",
      " 24  Status_y             5476 non-null   object \n",
      "dtypes: float64(16), int64(2), object(7)\n",
      "memory usage: 1.0+ MB\n"
     ]
    }
   ],
   "source": [
    "officer_disp.info()"
   ]
  },
  {
   "cell_type": "code",
   "execution_count": null,
   "id": "5089dc76-d8e1-4d51-bf78-07f338b83fab",
   "metadata": {},
   "outputs": [],
   "source": [
    "officer_disp.drop([7,9,19,22], inplace=True)"
   ]
  },
  {
   "cell_type": "code",
   "execution_count": null,
   "id": "0c65c5d7-c377-419f-9f8a-9c5f0c4d72ba",
   "metadata": {},
   "outputs": [],
   "source": [
    "officer_disp.drop_duplicates(inplace=True)"
   ]
  },
  {
   "cell_type": "code",
   "execution_count": null,
   "id": "ebdc1ccf-c817-4e07-9a26-398df12c2c29",
   "metadata": {},
   "outputs": [
    {
     "data": {
      "text/plain": [
       "(5472, 25)"
      ]
     },
     "execution_count": 55,
     "metadata": {},
     "output_type": "execute_result"
    }
   ],
   "source": [
    "officer_disp.shape"
   ]
  },
  {
   "cell_type": "code",
   "execution_count": null,
   "id": "5ba41bf1-5085-4ea8-998e-f4646c3d3e53",
   "metadata": {},
   "outputs": [
    {
     "data": {
      "text/html": [
       "<div>\n",
       "<style scoped>\n",
       "    .dataframe tbody tr th:only-of-type {\n",
       "        vertical-align: middle;\n",
       "    }\n",
       "\n",
       "    .dataframe tbody tr th {\n",
       "        vertical-align: top;\n",
       "    }\n",
       "\n",
       "    .dataframe thead th {\n",
       "        text-align: right;\n",
       "    }\n",
       "</style>\n",
       "<table border=\"1\" class=\"dataframe\">\n",
       "  <thead>\n",
       "    <tr style=\"text-align: right;\">\n",
       "      <th></th>\n",
       "      <th>JobTitle</th>\n",
       "      <th>Agency</th>\n",
       "    </tr>\n",
       "  </thead>\n",
       "  <tbody>\n",
       "    <tr>\n",
       "      <th>0</th>\n",
       "      <td>Police Officer (Pers)</td>\n",
       "      <td>Oakland</td>\n",
       "    </tr>\n",
       "    <tr>\n",
       "      <th>1</th>\n",
       "      <td>Police Officer (Pers)</td>\n",
       "      <td>Oakland</td>\n",
       "    </tr>\n",
       "    <tr>\n",
       "      <th>2</th>\n",
       "      <td>Police Officer (Pers)</td>\n",
       "      <td>Oakland</td>\n",
       "    </tr>\n",
       "    <tr>\n",
       "      <th>3</th>\n",
       "      <td>Lieutenant Of Police (Pers)</td>\n",
       "      <td>Oakland</td>\n",
       "    </tr>\n",
       "    <tr>\n",
       "      <th>4</th>\n",
       "      <td>City Administrator</td>\n",
       "      <td>Oakland</td>\n",
       "    </tr>\n",
       "  </tbody>\n",
       "</table>\n",
       "</div>"
      ],
      "text/plain": [
       "                      JobTitle   Agency\n",
       "0        Police Officer (Pers)  Oakland\n",
       "1        Police Officer (Pers)  Oakland\n",
       "2        Police Officer (Pers)  Oakland\n",
       "3  Lieutenant Of Police (Pers)  Oakland\n",
       "4           City Administrator  Oakland"
      ]
     },
     "execution_count": 88,
     "metadata": {},
     "output_type": "execute_result"
    }
   ],
   "source": [
    "#officer_disp.head(5)\n",
    "officer_count = officer_disp[['JobTitle', 'Agency']]\n",
    "officer_count.head(5)"
   ]
  },
  {
   "cell_type": "code",
   "execution_count": null,
   "id": "20010de8-55f4-4e50-a111-0151c457994e",
   "metadata": {},
   "outputs": [],
   "source": [
    "#nine11only = opd19[opd19['Source']=='911 CALL']\n",
    "\n",
    "#p1 = nine11only[nine11only['Priority']==1]\n",
    "#p1 = p1[['Description','Priority']]\n",
    "#p1 = p1.groupby(['Description']).count().reset_index()\n",
    "#p1 = p1.rename(columns={\"Priority\": \"Count\"})\n",
    "###p1.sort_values(['Count'], ascending=[False])\n",
    "#p1.head(5)"
   ]
  },
  {
   "cell_type": "code",
   "execution_count": null,
   "id": "36f4bf6f-c8fb-43cc-98a3-51f1866bfc58",
   "metadata": {},
   "outputs": [],
   "source": [
    "#desc_count_total = desc_group.groupby(['Description']).count().reset_index()\n",
    "##desc_count_total = desc_count_total.rename(columns={\"Priority\": \"Count\"})\n",
    "#desc_count_total.sort_values(['Count'], ascending=[False])\n",
    "#desc_count_total.head(5)"
   ]
  },
  {
   "cell_type": "code",
   "execution_count": null,
   "id": "0c689ae1-8012-46fc-a406-119385e43954",
   "metadata": {},
   "outputs": [],
   "source": [
    "#prior_count = nine11only[nine11only['Description','Priority']]"
   ]
  },
  {
   "cell_type": "code",
   "execution_count": null,
   "id": "3dccd491-d3c3-4d5d-bc80-55fcb7b3d100",
   "metadata": {},
   "outputs": [],
   "source": [
    "#prior_count = desc_group.groupby(['Priority']).count().reset_index()\n",
    "#prior_count.head(5)"
   ]
  }
 ],
 "metadata": {
  "kernelspec": {
   "display_name": "Python 3 (ipykernel)",
   "language": "python",
   "name": "python3"
  },
  "language_info": {
   "codemirror_mode": {
    "name": "ipython",
    "version": 3
   },
   "file_extension": ".py",
   "mimetype": "text/x-python",
   "name": "python",
   "nbconvert_exporter": "python",
   "pygments_lexer": "ipython3",
   "version": "3.12.2"
  }
 },
 "nbformat": 4,
 "nbformat_minor": 5
}
